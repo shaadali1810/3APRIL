{
 "cells": [
  {
   "cell_type": "code",
   "execution_count": 1,
   "id": "b44ea3fb-8990-45e8-aee3-28282dc8bf1f",
   "metadata": {},
   "outputs": [],
   "source": [
    "#1Precision shows how often an ML model is correct when predicting the target class. Recall shows whether an ML model can find all objects of the target class"
   ]
  },
  {
   "cell_type": "code",
   "execution_count": 2,
   "id": "b3a61d53-c909-413c-ac74-389b6b12f895",
   "metadata": {},
   "outputs": [],
   "source": [
    "#2t combines the precision and recall scores of a model. The accuracy metric computes how many times a model made a correct prediction across the entire dataset"
   ]
  },
  {
   "cell_type": "code",
   "execution_count": 3,
   "id": "dffa4f6e-e6b2-4ed3-8e03-66d6bbee514b",
   "metadata": {},
   "outputs": [],
   "source": [
    "#3OC AUC score is a single number that summarizes the classifier's performance across all possible classification thresholds. To get the score, you must measure the area under the ROC curve. ROC AUC score shows how well the classifier distinguishes positive and negative classes. It can take values from 0 to 1."
   ]
  },
  {
   "cell_type": "code",
   "execution_count": 4,
   "id": "5bbb0003-598c-41f9-85e5-90675073f6e7",
   "metadata": {},
   "outputs": [],
   "source": [
    "#4 Metrics like accuracy, precision, recall are good ways to evaluate classification models for balanced datasets, but if the data is imbalanced then other methods like ROC/AUC perform better in evaluating the model performance"
   ]
  },
  {
   "cell_type": "code",
   "execution_count": 5,
   "id": "95805b67-7bfb-4394-ba2a-e08d45c26184",
   "metadata": {},
   "outputs": [],
   "source": [
    "#5 Logistic regression can be applied to solve multiclass problems. For each class, build a logistic regression to find the probability the observation belongs to that class. For each data point, predict the class with the highest probability. Normalizes probabilities so they sum to 1."
   ]
  },
  {
   "cell_type": "code",
   "execution_count": 6,
   "id": "343c3564-595c-472d-b5b5-fe8b844e6b13",
   "metadata": {},
   "outputs": [],
   "source": [
    "#61. Create the model using a pre-trained model · 2. Load the model on GPU · 3. Define criterion and optimizers · 4. Training the model."
   ]
  },
  {
   "cell_type": "code",
   "execution_count": 7,
   "id": "f9b186bc-c96c-4020-ac32-6eb48513ba5c",
   "metadata": {},
   "outputs": [],
   "source": [
    "#7Model deployment is the process of putting machine learning models into production. This makes the model's predictions available to users, developers or systems, so they can make business decisions based on data, interact with their application (like recognize a face in an image) and so on."
   ]
  },
  {
   "cell_type": "code",
   "execution_count": 8,
   "id": "bced6586-92da-419d-a9d0-2848b14ca570",
   "metadata": {},
   "outputs": [],
   "source": [
    "#8 A company that uses a multi-cloud deployment incorporates multiple public clouds from more than one cloud provider. Instead of a business using one vendor for cloud hosting, storage, and the full application stack, in a multi-cloud configuration they use several"
   ]
  },
  {
   "cell_type": "code",
   "execution_count": null,
   "id": "078312ab-ff92-4fe9-8df3-330e0592b8a9",
   "metadata": {},
   "outputs": [],
   "source": []
  }
 ],
 "metadata": {
  "kernelspec": {
   "display_name": "Python 3 (ipykernel)",
   "language": "python",
   "name": "python3"
  },
  "language_info": {
   "codemirror_mode": {
    "name": "ipython",
    "version": 3
   },
   "file_extension": ".py",
   "mimetype": "text/x-python",
   "name": "python",
   "nbconvert_exporter": "python",
   "pygments_lexer": "ipython3",
   "version": "3.10.8"
  }
 },
 "nbformat": 4,
 "nbformat_minor": 5
}
